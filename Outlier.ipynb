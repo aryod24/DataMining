{
  "nbformat": 4,
  "nbformat_minor": 0,
  "metadata": {
    "colab": {
      "provenance": [],
      "authorship_tag": "ABX9TyNtpqDVgSpKUHMVvabDEMx3",
      "include_colab_link": true
    },
    "kernelspec": {
      "name": "python3",
      "display_name": "Python 3"
    },
    "language_info": {
      "name": "python"
    }
  },
  "cells": [
    {
      "cell_type": "markdown",
      "metadata": {
        "id": "view-in-github",
        "colab_type": "text"
      },
      "source": [
        "<a href=\"https://colab.research.google.com/github/aryod24/DataMining/blob/main/Outlier.ipynb\" target=\"_parent\"><img src=\"https://colab.research.google.com/assets/colab-badge.svg\" alt=\"Open In Colab\"/></a>"
      ]
    },
    {
      "cell_type": "markdown",
      "source": [
        "Import Numpy"
      ],
      "metadata": {
        "id": "DEqdhDUTYSXQ"
      }
    },
    {
      "cell_type": "code",
      "execution_count": 1,
      "metadata": {
        "id": "AbBW5Uz0VMqe"
      },
      "outputs": [],
      "source": [
        "import numpy as np"
      ]
    },
    {
      "cell_type": "markdown",
      "source": [
        "Data yang akan digunakan"
      ],
      "metadata": {
        "id": "CbtxN503YaNh"
      }
    },
    {
      "cell_type": "code",
      "source": [
        "data = [9,8,7,6,-30,5,3,4,4,6,60,80,7]"
      ],
      "metadata": {
        "id": "Bdp8cm-AYYOv"
      },
      "execution_count": 2,
      "outputs": []
    },
    {
      "cell_type": "markdown",
      "source": [
        "Cari Q1 dan Q3"
      ],
      "metadata": {
        "id": "zVipujLOZLDz"
      }
    },
    {
      "cell_type": "code",
      "source": [
        "#hitung nilai q1 dan q3\n",
        "Q1 = np.quantile(data, .25)\n",
        "Q3 = np.quantile(data, .75)"
      ],
      "metadata": {
        "id": "6LwJdYlkYPzV"
      },
      "execution_count": 3,
      "outputs": []
    },
    {
      "cell_type": "markdown",
      "source": [
        "Mencari nilai IQR"
      ],
      "metadata": {
        "id": "QVhEKs0rZPas"
      }
    },
    {
      "cell_type": "code",
      "source": [
        "IQR = Q3 - Q1"
      ],
      "metadata": {
        "id": "mCQ56aB4Y5-c"
      },
      "execution_count": 4,
      "outputs": []
    },
    {
      "cell_type": "markdown",
      "source": [
        "Print Hasil"
      ],
      "metadata": {
        "id": "gVYq1PkaZRyp"
      }
    },
    {
      "cell_type": "code",
      "source": [
        "print('Kuartil 1 = ', Q1)\n",
        "print('Kuartil 3 = ', Q3)\n",
        "print('IQR = ', IQR)\n"
      ],
      "metadata": {
        "colab": {
          "base_uri": "https://localhost:8080/"
        },
        "id": "EgPpC372Y9Au",
        "outputId": "816fc390-4c7c-4c59-a409-e5583c1e4e23"
      },
      "execution_count": 5,
      "outputs": [
        {
          "output_type": "stream",
          "name": "stdout",
          "text": [
            "Kuartil 1 =  4.0\n",
            "Kuartil 3 =  8.0\n",
            "IQR =  4.0\n"
          ]
        }
      ]
    },
    {
      "cell_type": "markdown",
      "source": [
        "Kalikan IQR dengan 1.5 ( Konstanta untuk menemukan outliers) untuk mendapatkan nilai IQR minimum dan maximum"
      ],
      "metadata": {
        "id": "VO6WROuZZVC_"
      }
    },
    {
      "cell_type": "code",
      "source": [
        "min_IQR = Q1 - 1.5 * IQR\n",
        "max_IQR = Q3 + 1.5 * IQR\n",
        "\n",
        "print('IQR minimum = ', min_IQR)\n",
        "print('IQR maximum = ', max_IQR)"
      ],
      "metadata": {
        "colab": {
          "base_uri": "https://localhost:8080/"
        },
        "id": "GYYsWo7lZAZX",
        "outputId": "66fe43f9-78f7-4bd3-d21b-fbff94e1a57d"
      },
      "execution_count": 6,
      "outputs": [
        {
          "output_type": "stream",
          "name": "stdout",
          "text": [
            "IQR minimum =  -2.0\n",
            "IQR maximum =  14.0\n"
          ]
        }
      ]
    },
    {
      "cell_type": "markdown",
      "source": [
        "Cari nilai minimum dan maksimum dari data"
      ],
      "metadata": {
        "id": "5_7lulcCZfy8"
      }
    },
    {
      "cell_type": "code",
      "source": [
        "nilai_min = np.min(data)\n",
        "nilai_max = np.max(data)\n",
        "\n",
        "print('Nilai minimum data = ', nilai_min)\n",
        "print('Nilai maximum data = ', nilai_max)"
      ],
      "metadata": {
        "colab": {
          "base_uri": "https://localhost:8080/"
        },
        "id": "km7vc9wNZDPy",
        "outputId": "35c68bad-4ef4-4c2d-ea2d-be1339472a93"
      },
      "execution_count": 7,
      "outputs": [
        {
          "output_type": "stream",
          "name": "stdout",
          "text": [
            "Nilai minimum data =  -30\n",
            "Nilai maximum data =  80\n"
          ]
        }
      ]
    },
    {
      "cell_type": "markdown",
      "source": [
        "Kondisi untuk mendefinisikan outlier"
      ],
      "metadata": {
        "id": "Ooo6M5fkZjdl"
      }
    },
    {
      "cell_type": "code",
      "source": [
        "if (nilai_min < min_IQR):\n",
        "    print('Ditemukan low outlier!')\n",
        "else:\n",
        "    print('Tidak ditemukan low outlier!')\n",
        "\n",
        "if (nilai_max > max_IQR):\n",
        "    print('Ditemukan high outlier!')\n",
        "else:\n",
        "    print('Tidak ditemukan high outlier!')"
      ],
      "metadata": {
        "colab": {
          "base_uri": "https://localhost:8080/"
        },
        "id": "YvEAIVXNZE_o",
        "outputId": "898bec00-2b76-4d44-b498-9333adc15f0b"
      },
      "execution_count": 8,
      "outputs": [
        {
          "output_type": "stream",
          "name": "stdout",
          "text": [
            "Ditemukan low outlier!\n",
            "Ditemukan high outlier!\n"
          ]
        }
      ]
    },
    {
      "cell_type": "markdown",
      "source": [
        "Tampilkan data yang termasuk outlier"
      ],
      "metadata": {
        "id": "lbcrnBpdZm-o"
      }
    },
    {
      "cell_type": "code",
      "source": [
        "low_out = []\n",
        "high_out = []\n",
        "\n",
        "for i in data:\n",
        "    if (i < min_IQR):\n",
        "        low_out.append(i)\n",
        "    if (i > max_IQR):\n",
        "        high_out.append(i)\n",
        "\n",
        "print('Low outlier : ', low_out)\n",
        "print('High outlier : ', high_out)"
      ],
      "metadata": {
        "colab": {
          "base_uri": "https://localhost:8080/"
        },
        "id": "ZF8NQqhZZGta",
        "outputId": "a8a6dc49-a3f8-48aa-e7b0-df28a774e4d0"
      },
      "execution_count": 9,
      "outputs": [
        {
          "output_type": "stream",
          "name": "stdout",
          "text": [
            "Low outlier :  [-30]\n",
            "High outlier :  [60, 80]\n"
          ]
        }
      ]
    }
  ]
}